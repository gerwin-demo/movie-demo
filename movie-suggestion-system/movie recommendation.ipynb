{
  "cells": [
    {
      "cell_type": "code",
      "execution_count": 3,
      "id": "96cd7b5e",
      "metadata": {
        "execution": {
          "iopub.execute_input": "2023-01-23T13:01:59.942896Z",
          "iopub.status.busy": "2023-01-23T13:01:59.942443Z",
          "iopub.status.idle": "2023-01-23T13:02:00.907347Z",
          "shell.execute_reply": "2023-01-23T13:02:00.906089Z"
        },
        "id": "96cd7b5e",
        "papermill": {
          "duration": 0.97964,
          "end_time": "2023-01-23T13:02:00.910309",
          "exception": false,
          "start_time": "2023-01-23T13:01:59.930669",
          "status": "completed"
        },
        "tags": []
      },
      "outputs": [],
      "source": [
        "\n",
        "import sklearn as sk\n",
        "import numpy as np\n",
        "import pandas as pd"
      ]
    },
    {
      "cell_type": "code",
      "execution_count": 4,
      "id": "KBphFLjmXY5v",
      "metadata": {
        "colab": {
          "base_uri": "https://localhost:8080/"
        },
        "id": "KBphFLjmXY5v",
        "outputId": "df8f556f-0653-436b-b824-13e49128300b"
      },
      "outputs": [
        {
          "name": "stdout",
          "output_type": "stream",
          "text": [
            "Drive already mounted at /content/drive; to attempt to forcibly remount, call drive.mount(\"/content/drive\", force_remount=True).\n"
          ]
        }
      ],
      "source": [
        "from google.colab import drive\n",
        "drive.mount('/content/drive')"
      ]
    },
    {
      "cell_type": "code",
      "execution_count": 5,
      "id": "f250598d",
      "metadata": {
        "colab": {
          "base_uri": "https://localhost:8080/",
          "height": 384
        },
        "execution": {
          "iopub.execute_input": "2023-01-23T13:02:00.934544Z",
          "iopub.status.busy": "2023-01-23T13:02:00.934080Z",
          "iopub.status.idle": "2023-01-23T13:02:11.204481Z",
          "shell.execute_reply": "2023-01-23T13:02:11.203765Z"
        },
        "id": "f250598d",
        "outputId": "00833674-65bc-4866-e30b-e715b23fc041",
        "papermill": {
          "duration": 10.285289,
          "end_time": "2023-01-23T13:02:11.207142",
          "exception": false,
          "start_time": "2023-01-23T13:02:00.921853",
          "status": "completed"
        },
        "tags": []
      },
      "outputs": [
        {
          "data": {
            "text/html": [
              "\n",
              "\n",
              "  <div id=\"df-65313715-50f2-48cf-8bb8-e569e9929c7b\">\n",
              "    <div class=\"colab-df-container\">\n",
              "      <div>\n",
              "<style scoped>\n",
              "    .dataframe tbody tr th:only-of-type {\n",
              "        vertical-align: middle;\n",
              "    }\n",
              "\n",
              "    .dataframe tbody tr th {\n",
              "        vertical-align: top;\n",
              "    }\n",
              "\n",
              "    .dataframe thead th {\n",
              "        text-align: right;\n",
              "    }\n",
              "</style>\n",
              "<table border=\"1\" class=\"dataframe\">\n",
              "  <thead>\n",
              "    <tr style=\"text-align: right;\">\n",
              "      <th></th>\n",
              "      <th>id</th>\n",
              "      <th>title</th>\n",
              "      <th>genres</th>\n",
              "      <th>original_language</th>\n",
              "      <th>overview</th>\n",
              "      <th>popularity</th>\n",
              "      <th>production_companies</th>\n",
              "      <th>release_date</th>\n",
              "      <th>budget</th>\n",
              "      <th>revenue</th>\n",
              "      <th>runtime</th>\n",
              "      <th>status</th>\n",
              "      <th>tagline</th>\n",
              "      <th>vote_average</th>\n",
              "      <th>vote_count</th>\n",
              "      <th>credits</th>\n",
              "      <th>keywords</th>\n",
              "      <th>poster_path</th>\n",
              "      <th>backdrop_path</th>\n",
              "      <th>recommendations</th>\n",
              "    </tr>\n",
              "  </thead>\n",
              "  <tbody>\n",
              "    <tr>\n",
              "      <th>0</th>\n",
              "      <td>315162</td>\n",
              "      <td>Puss in Boots: The Last Wish</td>\n",
              "      <td>Animation-Action-Adventure-Comedy-Family-Fantasy</td>\n",
              "      <td>en</td>\n",
              "      <td>Puss in Boots discovers that his passion for a...</td>\n",
              "      <td>10011.230</td>\n",
              "      <td>Universal Pictures-DreamWorks Animation</td>\n",
              "      <td>2022-12-07</td>\n",
              "      <td>90000000.0</td>\n",
              "      <td>297504470.0</td>\n",
              "      <td>103.0</td>\n",
              "      <td>Released</td>\n",
              "      <td>Say hola to his little friends.</td>\n",
              "      <td>8.611</td>\n",
              "      <td>2369.0</td>\n",
              "      <td>Antonio Banderas-Salma Hayek-Harvey Guillén-Wa...</td>\n",
              "      <td>fairy tale-talking dog-spin off-aftercreditsst...</td>\n",
              "      <td>/kuf6dutpsT0vSVehic3EZIqkOBt.jpg</td>\n",
              "      <td>/r9PkFnRUIthgBp2JZZzD380MWZy.jpg</td>\n",
              "      <td>830784-826173-417859-76600-877269-5334-46632-6...</td>\n",
              "    </tr>\n",
              "    <tr>\n",
              "      <th>1</th>\n",
              "      <td>536554</td>\n",
              "      <td>M3GAN</td>\n",
              "      <td>Science Fiction-Horror-Comedy</td>\n",
              "      <td>en</td>\n",
              "      <td>A brilliant toy company roboticist uses artifi...</td>\n",
              "      <td>7352.073</td>\n",
              "      <td>Universal Pictures-Blumhouse Productions-Atomi...</td>\n",
              "      <td>2022-12-28</td>\n",
              "      <td>12000000.0</td>\n",
              "      <td>101000000.0</td>\n",
              "      <td>102.0</td>\n",
              "      <td>Released</td>\n",
              "      <td>Friendship has evolved.</td>\n",
              "      <td>7.127</td>\n",
              "      <td>402.0</td>\n",
              "      <td>Allison Williams-Violet McGraw-Jenna Davis-Ami...</td>\n",
              "      <td>evil doll-aunt niece relationship-orphan-car a...</td>\n",
              "      <td>/7CNCv9uhqdwK7Fv4bR4nmDysnd9.jpg</td>\n",
              "      <td>/5kAGbi9MFAobQTVfK4kWPnIfnP0.jpg</td>\n",
              "      <td>615777-674324-661374-48209-593643-696157-67671...</td>\n",
              "    </tr>\n",
              "  </tbody>\n",
              "</table>\n",
              "</div>\n",
              "      <button class=\"colab-df-convert\" onclick=\"convertToInteractive('df-65313715-50f2-48cf-8bb8-e569e9929c7b')\"\n",
              "              title=\"Convert this dataframe to an interactive table.\"\n",
              "              style=\"display:none;\">\n",
              "\n",
              "  <svg xmlns=\"http://www.w3.org/2000/svg\" height=\"24px\"viewBox=\"0 0 24 24\"\n",
              "       width=\"24px\">\n",
              "    <path d=\"M0 0h24v24H0V0z\" fill=\"none\"/>\n",
              "    <path d=\"M18.56 5.44l.94 2.06.94-2.06 2.06-.94-2.06-.94-.94-2.06-.94 2.06-2.06.94zm-11 1L8.5 8.5l.94-2.06 2.06-.94-2.06-.94L8.5 2.5l-.94 2.06-2.06.94zm10 10l.94 2.06.94-2.06 2.06-.94-2.06-.94-.94-2.06-.94 2.06-2.06.94z\"/><path d=\"M17.41 7.96l-1.37-1.37c-.4-.4-.92-.59-1.43-.59-.52 0-1.04.2-1.43.59L10.3 9.45l-7.72 7.72c-.78.78-.78 2.05 0 2.83L4 21.41c.39.39.9.59 1.41.59.51 0 1.02-.2 1.41-.59l7.78-7.78 2.81-2.81c.8-.78.8-2.07 0-2.86zM5.41 20L4 18.59l7.72-7.72 1.47 1.35L5.41 20z\"/>\n",
              "  </svg>\n",
              "      </button>\n",
              "\n",
              "\n",
              "\n",
              "    <div id=\"df-c851d810-b876-43ba-82d7-a613aa70b385\">\n",
              "      <button class=\"colab-df-quickchart\" onclick=\"quickchart('df-c851d810-b876-43ba-82d7-a613aa70b385')\"\n",
              "              title=\"Suggest charts.\"\n",
              "              style=\"display:none;\">\n",
              "\n",
              "<svg xmlns=\"http://www.w3.org/2000/svg\" height=\"24px\"viewBox=\"0 0 24 24\"\n",
              "     width=\"24px\">\n",
              "    <g>\n",
              "        <path d=\"M19 3H5c-1.1 0-2 .9-2 2v14c0 1.1.9 2 2 2h14c1.1 0 2-.9 2-2V5c0-1.1-.9-2-2-2zM9 17H7v-7h2v7zm4 0h-2V7h2v10zm4 0h-2v-4h2v4z\"/>\n",
              "    </g>\n",
              "</svg>\n",
              "      </button>\n",
              "    </div>\n",
              "\n",
              "<style>\n",
              "  .colab-df-quickchart {\n",
              "    background-color: #E8F0FE;\n",
              "    border: none;\n",
              "    border-radius: 50%;\n",
              "    cursor: pointer;\n",
              "    display: none;\n",
              "    fill: #1967D2;\n",
              "    height: 32px;\n",
              "    padding: 0 0 0 0;\n",
              "    width: 32px;\n",
              "  }\n",
              "\n",
              "  .colab-df-quickchart:hover {\n",
              "    background-color: #E2EBFA;\n",
              "    box-shadow: 0px 1px 2px rgba(60, 64, 67, 0.3), 0px 1px 3px 1px rgba(60, 64, 67, 0.15);\n",
              "    fill: #174EA6;\n",
              "  }\n",
              "\n",
              "  [theme=dark] .colab-df-quickchart {\n",
              "    background-color: #3B4455;\n",
              "    fill: #D2E3FC;\n",
              "  }\n",
              "\n",
              "  [theme=dark] .colab-df-quickchart:hover {\n",
              "    background-color: #434B5C;\n",
              "    box-shadow: 0px 1px 3px 1px rgba(0, 0, 0, 0.15);\n",
              "    filter: drop-shadow(0px 1px 2px rgba(0, 0, 0, 0.3));\n",
              "    fill: #FFFFFF;\n",
              "  }\n",
              "</style>\n",
              "\n",
              "    <script>\n",
              "      async function quickchart(key) {\n",
              "        const containerElement = document.querySelector('#' + key);\n",
              "        const charts = await google.colab.kernel.invokeFunction(\n",
              "            'suggestCharts', [key], {});\n",
              "      }\n",
              "    </script>\n",
              "\n",
              "      <script>\n",
              "\n",
              "function displayQuickchartButton(domScope) {\n",
              "  let quickchartButtonEl =\n",
              "    domScope.querySelector('#df-c851d810-b876-43ba-82d7-a613aa70b385 button.colab-df-quickchart');\n",
              "  quickchartButtonEl.style.display =\n",
              "    google.colab.kernel.accessAllowed ? 'block' : 'none';\n",
              "}\n",
              "\n",
              "        displayQuickchartButton(document);\n",
              "      </script>\n",
              "      <style>\n",
              "    .colab-df-container {\n",
              "      display:flex;\n",
              "      flex-wrap:wrap;\n",
              "      gap: 12px;\n",
              "    }\n",
              "\n",
              "    .colab-df-convert {\n",
              "      background-color: #E8F0FE;\n",
              "      border: none;\n",
              "      border-radius: 50%;\n",
              "      cursor: pointer;\n",
              "      display: none;\n",
              "      fill: #1967D2;\n",
              "      height: 32px;\n",
              "      padding: 0 0 0 0;\n",
              "      width: 32px;\n",
              "    }\n",
              "\n",
              "    .colab-df-convert:hover {\n",
              "      background-color: #E2EBFA;\n",
              "      box-shadow: 0px 1px 2px rgba(60, 64, 67, 0.3), 0px 1px 3px 1px rgba(60, 64, 67, 0.15);\n",
              "      fill: #174EA6;\n",
              "    }\n",
              "\n",
              "    [theme=dark] .colab-df-convert {\n",
              "      background-color: #3B4455;\n",
              "      fill: #D2E3FC;\n",
              "    }\n",
              "\n",
              "    [theme=dark] .colab-df-convert:hover {\n",
              "      background-color: #434B5C;\n",
              "      box-shadow: 0px 1px 3px 1px rgba(0, 0, 0, 0.15);\n",
              "      filter: drop-shadow(0px 1px 2px rgba(0, 0, 0, 0.3));\n",
              "      fill: #FFFFFF;\n",
              "    }\n",
              "  </style>\n",
              "\n",
              "      <script>\n",
              "        const buttonEl =\n",
              "          document.querySelector('#df-65313715-50f2-48cf-8bb8-e569e9929c7b button.colab-df-convert');\n",
              "        buttonEl.style.display =\n",
              "          google.colab.kernel.accessAllowed ? 'block' : 'none';\n",
              "\n",
              "        async function convertToInteractive(key) {\n",
              "          const element = document.querySelector('#df-65313715-50f2-48cf-8bb8-e569e9929c7b');\n",
              "          const dataTable =\n",
              "            await google.colab.kernel.invokeFunction('convertToInteractive',\n",
              "                                                     [key], {});\n",
              "          if (!dataTable) return;\n",
              "\n",
              "          const docLinkHtml = 'Like what you see? Visit the ' +\n",
              "            '<a target=\"_blank\" href=https://colab.research.google.com/notebooks/data_table.ipynb>data table notebook</a>'\n",
              "            + ' to learn more about interactive tables.';\n",
              "          element.innerHTML = '';\n",
              "          dataTable['output_type'] = 'display_data';\n",
              "          await google.colab.output.renderOutput(dataTable, element);\n",
              "          const docLink = document.createElement('div');\n",
              "          docLink.innerHTML = docLinkHtml;\n",
              "          element.appendChild(docLink);\n",
              "        }\n",
              "      </script>\n",
              "    </div>\n",
              "  </div>\n"
            ],
            "text/plain": [
              "       id                         title  \\\n",
              "0  315162  Puss in Boots: The Last Wish   \n",
              "1  536554                         M3GAN   \n",
              "\n",
              "                                             genres original_language  \\\n",
              "0  Animation-Action-Adventure-Comedy-Family-Fantasy                en   \n",
              "1                     Science Fiction-Horror-Comedy                en   \n",
              "\n",
              "                                            overview  popularity  \\\n",
              "0  Puss in Boots discovers that his passion for a...   10011.230   \n",
              "1  A brilliant toy company roboticist uses artifi...    7352.073   \n",
              "\n",
              "                                production_companies release_date      budget  \\\n",
              "0            Universal Pictures-DreamWorks Animation   2022-12-07  90000000.0   \n",
              "1  Universal Pictures-Blumhouse Productions-Atomi...   2022-12-28  12000000.0   \n",
              "\n",
              "       revenue  runtime    status                          tagline  \\\n",
              "0  297504470.0    103.0  Released  Say hola to his little friends.   \n",
              "1  101000000.0    102.0  Released          Friendship has evolved.   \n",
              "\n",
              "   vote_average  vote_count  \\\n",
              "0         8.611      2369.0   \n",
              "1         7.127       402.0   \n",
              "\n",
              "                                             credits  \\\n",
              "0  Antonio Banderas-Salma Hayek-Harvey Guillén-Wa...   \n",
              "1  Allison Williams-Violet McGraw-Jenna Davis-Ami...   \n",
              "\n",
              "                                            keywords  \\\n",
              "0  fairy tale-talking dog-spin off-aftercreditsst...   \n",
              "1  evil doll-aunt niece relationship-orphan-car a...   \n",
              "\n",
              "                        poster_path                     backdrop_path  \\\n",
              "0  /kuf6dutpsT0vSVehic3EZIqkOBt.jpg  /r9PkFnRUIthgBp2JZZzD380MWZy.jpg   \n",
              "1  /7CNCv9uhqdwK7Fv4bR4nmDysnd9.jpg  /5kAGbi9MFAobQTVfK4kWPnIfnP0.jpg   \n",
              "\n",
              "                                     recommendations  \n",
              "0  830784-826173-417859-76600-877269-5334-46632-6...  \n",
              "1  615777-674324-661374-48209-593643-696157-67671...  "
            ]
          },
          "execution_count": 5,
          "metadata": {},
          "output_type": "execute_result"
        }
      ],
      "source": [
        "data = pd.read_csv(\"/content/drive/MyDrive/data pro/movies.csv\")\n",
        "\n",
        "\n",
        "data.head(2)"
      ]
    },
    {
      "cell_type": "markdown",
      "id": "528e235c",
      "metadata": {
        "id": "528e235c",
        "papermill": {
          "duration": 0.010706,
          "end_time": "2023-01-23T13:02:11.229478",
          "exception": false,
          "start_time": "2023-01-23T13:02:11.218772",
          "status": "completed"
        },
        "tags": []
      },
      "source": [
        "# <p style=\"background-color:#C71A27;font-family:verdana;color:white;text-align:center;letter-spacing:0.5px;font-size:100%;padding: 10px\"> Pre-processing data </p>"
      ]
    },
    {
      "cell_type": "markdown",
      "id": "05d09278",
      "metadata": {
        "id": "05d09278",
        "papermill": {
          "duration": 0.010552,
          "end_time": "2023-01-23T13:02:11.251014",
          "exception": false,
          "start_time": "2023-01-23T13:02:11.240462",
          "status": "completed"
        },
        "tags": []
      },
      "source": [
        "# <p style=\"background-color:#C71A27;font-family:verdana;color:white;text-align:center;letter-spacing:0.5px;font-size:100%;padding: 5px\"> Analyzing data </p>"
      ]
    },
    {
      "cell_type": "markdown",
      "id": "dc07662b",
      "metadata": {
        "id": "dc07662b",
        "papermill": {
          "duration": 0.010714,
          "end_time": "2023-01-23T13:02:11.272836",
          "exception": false,
          "start_time": "2023-01-23T13:02:11.262122",
          "status": "completed"
        },
        "tags": []
      },
      "source": []
    },
    {
      "cell_type": "code",
      "execution_count": 6,
      "id": "27a37939",
      "metadata": {
        "colab": {
          "base_uri": "https://localhost:8080/"
        },
        "execution": {
          "iopub.execute_input": "2023-01-23T13:02:11.298132Z",
          "iopub.status.busy": "2023-01-23T13:02:11.297392Z",
          "iopub.status.idle": "2023-01-23T13:02:11.302840Z",
          "shell.execute_reply": "2023-01-23T13:02:11.301379Z"
        },
        "id": "27a37939",
        "outputId": "342c2ed0-16fc-45d5-f8d7-74e1ca69cda6",
        "papermill": {
          "duration": 0.021003,
          "end_time": "2023-01-23T13:02:11.305307",
          "exception": false,
          "start_time": "2023-01-23T13:02:11.284304",
          "status": "completed"
        },
        "tags": []
      },
      "outputs": [
        {
          "name": "stdout",
          "output_type": "stream",
          "text": [
            "(728651, 20)\n"
          ]
        }
      ],
      "source": [
        "#check the shape of data\n",
        "print(data.shape)"
      ]
    },
    {
      "cell_type": "markdown",
      "id": "528f43b1",
      "metadata": {
        "id": "528f43b1",
        "papermill": {
          "duration": 0.010662,
          "end_time": "2023-01-23T13:02:11.327212",
          "exception": false,
          "start_time": "2023-01-23T13:02:11.316550",
          "status": "completed"
        },
        "tags": []
      },
      "source": [
        "__Observation__ \\\n",
        "We have about __728K movies__ in the dataset and about __20 features__ of each movies."
      ]
    },
    {
      "cell_type": "code",
      "execution_count": 7,
      "id": "d8eb2faf",
      "metadata": {
        "colab": {
          "base_uri": "https://localhost:8080/"
        },
        "execution": {
          "iopub.execute_input": "2023-01-23T13:02:11.350875Z",
          "iopub.status.busy": "2023-01-23T13:02:11.350462Z",
          "iopub.status.idle": "2023-01-23T13:02:11.827709Z",
          "shell.execute_reply": "2023-01-23T13:02:11.826595Z"
        },
        "id": "d8eb2faf",
        "outputId": "b1d53b26-13fe-487e-d06d-9409ced2a437",
        "papermill": {
          "duration": 0.491797,
          "end_time": "2023-01-23T13:02:11.829934",
          "exception": false,
          "start_time": "2023-01-23T13:02:11.338137",
          "status": "completed"
        },
        "tags": []
      },
      "outputs": [
        {
          "name": "stdout",
          "output_type": "stream",
          "text": [
            "<class 'pandas.core.frame.DataFrame'>\n",
            "RangeIndex: 728651 entries, 0 to 728650\n",
            "Data columns (total 20 columns):\n",
            " #   Column                Non-Null Count   Dtype  \n",
            "---  ------                --------------   -----  \n",
            " 0   id                    728651 non-null  int64  \n",
            " 1   title                 728647 non-null  object \n",
            " 2   genres                514726 non-null  object \n",
            " 3   original_language     728651 non-null  object \n",
            " 4   overview              608581 non-null  object \n",
            " 5   popularity            728651 non-null  float64\n",
            " 6   production_companies  338007 non-null  object \n",
            " 7   release_date          674787 non-null  object \n",
            " 8   budget                728651 non-null  float64\n",
            " 9   revenue               728651 non-null  float64\n",
            " 10  runtime               692976 non-null  float64\n",
            " 11  status                728651 non-null  object \n",
            " 12  tagline               108684 non-null  object \n",
            " 13  vote_average          728651 non-null  float64\n",
            " 14  vote_count            728651 non-null  float64\n",
            " 15  credits               501826 non-null  object \n",
            " 16  keywords              211190 non-null  object \n",
            " 17  poster_path           539360 non-null  object \n",
            " 18  backdrop_path         222900 non-null  object \n",
            " 19  recommendations       34951 non-null   object \n",
            "dtypes: float64(6), int64(1), object(13)\n",
            "memory usage: 111.2+ MB\n"
          ]
        }
      ],
      "source": [
        "# check columns of data and its data-types present in dataframe\n",
        "data.info()"
      ]
    },
    {
      "cell_type": "code",
      "execution_count": 8,
      "id": "85e15401",
      "metadata": {
        "colab": {
          "base_uri": "https://localhost:8080/"
        },
        "execution": {
          "iopub.execute_input": "2023-01-23T13:02:11.855763Z",
          "iopub.status.busy": "2023-01-23T13:02:11.855246Z",
          "iopub.status.idle": "2023-01-23T13:02:12.304583Z",
          "shell.execute_reply": "2023-01-23T13:02:12.303375Z"
        },
        "id": "85e15401",
        "outputId": "4d7fc933-98db-46ce-bae0-160262e9e3da",
        "papermill": {
          "duration": 0.465172,
          "end_time": "2023-01-23T13:02:12.306921",
          "exception": false,
          "start_time": "2023-01-23T13:02:11.841749",
          "status": "completed"
        },
        "tags": []
      },
      "outputs": [
        {
          "data": {
            "text/plain": [
              "id                           0\n",
              "title                        4\n",
              "genres                  213925\n",
              "original_language            0\n",
              "overview                120070\n",
              "popularity                   0\n",
              "production_companies    390644\n",
              "release_date             53864\n",
              "budget                       0\n",
              "revenue                      0\n",
              "runtime                  35675\n",
              "status                       0\n",
              "tagline                 619967\n",
              "vote_average                 0\n",
              "vote_count                   0\n",
              "credits                 226825\n",
              "keywords                517461\n",
              "poster_path             189291\n",
              "backdrop_path           505751\n",
              "recommendations         693700\n",
              "dtype: int64"
            ]
          },
          "execution_count": 8,
          "metadata": {},
          "output_type": "execute_result"
        }
      ],
      "source": [
        "# check null value in dataset\n",
        "data.isnull().sum()"
      ]
    },
    {
      "cell_type": "code",
      "execution_count": 9,
      "id": "14a9a62a",
      "metadata": {
        "colab": {
          "base_uri": "https://localhost:8080/"
        },
        "execution": {
          "iopub.execute_input": "2023-01-23T13:02:12.331680Z",
          "iopub.status.busy": "2023-01-23T13:02:12.331203Z",
          "iopub.status.idle": "2023-01-23T13:02:14.660718Z",
          "shell.execute_reply": "2023-01-23T13:02:14.659213Z"
        },
        "id": "14a9a62a",
        "outputId": "4acee372-c598-41f3-d5ed-4de07c62ad84",
        "papermill": {
          "duration": 2.344407,
          "end_time": "2023-01-23T13:02:14.662842",
          "exception": false,
          "start_time": "2023-01-23T13:02:12.318435",
          "status": "completed"
        },
        "tags": []
      },
      "outputs": [
        {
          "data": {
            "text/plain": [
              "86"
            ]
          },
          "execution_count": 9,
          "metadata": {},
          "output_type": "execute_result"
        }
      ],
      "source": [
        "# check for duplicate values\n",
        "data.duplicated().sum()"
      ]
    },
    {
      "cell_type": "code",
      "execution_count": 10,
      "id": "46c91a3c",
      "metadata": {
        "execution": {
          "iopub.execute_input": "2023-01-23T13:02:14.732620Z",
          "iopub.status.busy": "2023-01-23T13:02:14.732167Z",
          "iopub.status.idle": "2023-01-23T13:02:14.812592Z",
          "shell.execute_reply": "2023-01-23T13:02:14.811451Z"
        },
        "id": "46c91a3c",
        "papermill": {
          "duration": 0.095679,
          "end_time": "2023-01-23T13:02:14.814701",
          "exception": false,
          "start_time": "2023-01-23T13:02:14.719022",
          "status": "completed"
        },
        "tags": []
      },
      "outputs": [],
      "source": [
        "# dropping unnecesary title\n",
        "df = data.drop([\"production_companies\", \"popularity\", \"budget\", \"revenue\", \"status\", \"recommendations\", \"runtime\", \"vote_average\", \"backdrop_path\", \"tagline\"], axis=1)"
      ]
    },
    {
      "cell_type": "code",
      "execution_count": 11,
      "id": "302974e4",
      "metadata": {
        "execution": {
          "iopub.execute_input": "2023-01-23T13:02:14.839765Z",
          "iopub.status.busy": "2023-01-23T13:02:14.839325Z",
          "iopub.status.idle": "2023-01-23T13:02:16.318359Z",
          "shell.execute_reply": "2023-01-23T13:02:16.317233Z"
        },
        "id": "302974e4",
        "papermill": {
          "duration": 1.494822,
          "end_time": "2023-01-23T13:02:16.321220",
          "exception": false,
          "start_time": "2023-01-23T13:02:14.826398",
          "status": "completed"
        },
        "tags": []
      },
      "outputs": [],
      "source": [
        "# droping duplicate values\n",
        "df.drop_duplicates(inplace=True)"
      ]
    },
    {
      "cell_type": "code",
      "execution_count": 12,
      "id": "c575fb61",
      "metadata": {
        "colab": {
          "base_uri": "https://localhost:8080/"
        },
        "execution": {
          "iopub.execute_input": "2023-01-23T13:02:16.347668Z",
          "iopub.status.busy": "2023-01-23T13:02:16.347192Z",
          "iopub.status.idle": "2023-01-23T13:02:16.451540Z",
          "shell.execute_reply": "2023-01-23T13:02:16.450603Z"
        },
        "id": "c575fb61",
        "outputId": "7e4d2dfd-6297-4c37-90f8-40fbd2dc46d6",
        "papermill": {
          "duration": 0.120004,
          "end_time": "2023-01-23T13:02:16.453379",
          "exception": false,
          "start_time": "2023-01-23T13:02:16.333375",
          "status": "completed"
        },
        "tags": []
      },
      "outputs": [
        {
          "data": {
            "text/plain": [
              "86912"
            ]
          },
          "execution_count": 12,
          "metadata": {},
          "output_type": "execute_result"
        }
      ],
      "source": [
        "# checking duplicates in title\n",
        "df.title.duplicated().sum()"
      ]
    },
    {
      "cell_type": "code",
      "execution_count": 13,
      "id": "565e8663",
      "metadata": {
        "colab": {
          "base_uri": "https://localhost:8080/"
        },
        "execution": {
          "iopub.execute_input": "2023-01-23T13:02:16.481007Z",
          "iopub.status.busy": "2023-01-23T13:02:16.479761Z",
          "iopub.status.idle": "2023-01-23T13:02:16.868215Z",
          "shell.execute_reply": "2023-01-23T13:02:16.867275Z"
        },
        "id": "565e8663",
        "outputId": "3c1792db-3ff3-488f-d3c9-6a8a2f4684d0",
        "papermill": {
          "duration": 0.405224,
          "end_time": "2023-01-23T13:02:16.870340",
          "exception": false,
          "start_time": "2023-01-23T13:02:16.465116",
          "status": "completed"
        },
        "tags": []
      },
      "outputs": [
        {
          "data": {
            "text/plain": [
              "2339"
            ]
          },
          "execution_count": 13,
          "metadata": {},
          "output_type": "execute_result"
        }
      ],
      "source": [
        "# check if duplicates titles have same release date\n",
        "df[[\"title\", \"release_date\"]].duplicated().sum()"
      ]
    },
    {
      "cell_type": "code",
      "execution_count": 14,
      "id": "8d3a0e37",
      "metadata": {
        "execution": {
          "iopub.execute_input": "2023-01-23T13:02:16.896998Z",
          "iopub.status.busy": "2023-01-23T13:02:16.895589Z",
          "iopub.status.idle": "2023-01-23T13:02:17.342770Z",
          "shell.execute_reply": "2023-01-23T13:02:17.341443Z"
        },
        "id": "8d3a0e37",
        "papermill": {
          "duration": 0.463387,
          "end_time": "2023-01-23T13:02:17.345641",
          "exception": false,
          "start_time": "2023-01-23T13:02:16.882254",
          "status": "completed"
        },
        "tags": []
      },
      "outputs": [],
      "source": [
        "# get rid of duplicates with same release datae\n",
        "df.drop_duplicates(subset=[\"title\",\"release_date\"], inplace=True)"
      ]
    },
    {
      "cell_type": "code",
      "execution_count": 15,
      "id": "5aba77ee",
      "metadata": {
        "execution": {
          "iopub.execute_input": "2023-01-23T13:02:17.370946Z",
          "iopub.status.busy": "2023-01-23T13:02:17.369630Z",
          "iopub.status.idle": "2023-01-23T13:02:17.411410Z",
          "shell.execute_reply": "2023-01-23T13:02:17.409842Z"
        },
        "id": "5aba77ee",
        "papermill": {
          "duration": 0.057071,
          "end_time": "2023-01-23T13:02:17.414371",
          "exception": false,
          "start_time": "2023-01-23T13:02:17.357300",
          "status": "completed"
        },
        "tags": []
      },
      "outputs": [],
      "source": [
        "# get rid of vote_count lower than 350 and reseting index\n",
        "df = df[df.vote_count >= 350].reset_index()"
      ]
    },
    {
      "cell_type": "code",
      "execution_count": 16,
      "id": "3f6d677b",
      "metadata": {
        "colab": {
          "base_uri": "https://localhost:8080/"
        },
        "execution": {
          "iopub.execute_input": "2023-01-23T13:02:17.439556Z",
          "iopub.status.busy": "2023-01-23T13:02:17.438978Z",
          "iopub.status.idle": "2023-01-23T13:02:17.455930Z",
          "shell.execute_reply": "2023-01-23T13:02:17.454490Z"
        },
        "id": "3f6d677b",
        "outputId": "deab8925-8d99-499e-940a-c5657e31ddf8",
        "papermill": {
          "duration": 0.031666,
          "end_time": "2023-01-23T13:02:17.457779",
          "exception": false,
          "start_time": "2023-01-23T13:02:17.426113",
          "status": "completed"
        },
        "tags": []
      },
      "outputs": [
        {
          "data": {
            "text/plain": [
              "index                  0\n",
              "id                     0\n",
              "title                  0\n",
              "genres                 0\n",
              "original_language      0\n",
              "overview               1\n",
              "release_date           0\n",
              "vote_count             0\n",
              "credits                8\n",
              "keywords             237\n",
              "poster_path            0\n",
              "dtype: int64"
            ]
          },
          "execution_count": 16,
          "metadata": {},
          "output_type": "execute_result"
        }
      ],
      "source": [
        "df.isnull().sum()"
      ]
    },
    {
      "cell_type": "code",
      "execution_count": 17,
      "id": "4fd2cf12",
      "metadata": {
        "execution": {
          "iopub.execute_input": "2023-01-23T13:02:17.483312Z",
          "iopub.status.busy": "2023-01-23T13:02:17.482190Z",
          "iopub.status.idle": "2023-01-23T13:02:17.493742Z",
          "shell.execute_reply": "2023-01-23T13:02:17.492969Z"
        },
        "id": "4fd2cf12",
        "papermill": {
          "duration": 0.026324,
          "end_time": "2023-01-23T13:02:17.495669",
          "exception": false,
          "start_time": "2023-01-23T13:02:17.469345",
          "status": "completed"
        },
        "tags": []
      },
      "outputs": [],
      "source": [
        "# replacing all the null value from genres adn overview with \"nothing\"\n",
        "df.fillna(\"\", inplace = True)"
      ]
    },
    {
      "cell_type": "code",
      "execution_count": 18,
      "id": "3a7f15ee",
      "metadata": {
        "execution": {
          "iopub.execute_input": "2023-01-23T13:02:17.520357Z",
          "iopub.status.busy": "2023-01-23T13:02:17.519848Z",
          "iopub.status.idle": "2023-01-23T13:02:17.533502Z",
          "shell.execute_reply": "2023-01-23T13:02:17.531826Z"
        },
        "id": "3a7f15ee",
        "papermill": {
          "duration": 0.028199,
          "end_time": "2023-01-23T13:02:17.535540",
          "exception": false,
          "start_time": "2023-01-23T13:02:17.507341",
          "status": "completed"
        },
        "tags": []
      },
      "outputs": [],
      "source": [
        "# delete movies with no genres and overview\n",
        "index = df[(df.genres == \"\") & (df.overview == \"\")].index\n",
        "df.drop(index, inplace=True)"
      ]
    },
    {
      "cell_type": "code",
      "execution_count": 19,
      "id": "f181e8cc",
      "metadata": {
        "execution": {
          "iopub.execute_input": "2023-01-23T13:02:17.560612Z",
          "iopub.status.busy": "2023-01-23T13:02:17.560144Z",
          "iopub.status.idle": "2023-01-23T13:02:17.612799Z",
          "shell.execute_reply": "2023-01-23T13:02:17.611509Z"
        },
        "id": "f181e8cc",
        "papermill": {
          "duration": 0.068375,
          "end_time": "2023-01-23T13:02:17.615354",
          "exception": false,
          "start_time": "2023-01-23T13:02:17.546979",
          "status": "completed"
        },
        "tags": []
      },
      "outputs": [],
      "source": [
        "# replacing genres, credits and keywords - with \" \"\n",
        "df.genres = df.genres.apply(lambda x: \" \".join(x.split(\"-\")))\n",
        "df.keywords = df.keywords.apply(lambda x: \" \".join(x.split(\"-\")))\n",
        "df.credits = df.credits.apply(lambda x: \" \".join(x.replace(\" \", \"\").split(\"-\")[:5]))"
      ]
    },
    {
      "cell_type": "code",
      "execution_count": 20,
      "id": "69060e0d",
      "metadata": {
        "execution": {
          "iopub.execute_input": "2023-01-23T13:02:17.663193Z",
          "iopub.status.busy": "2023-01-23T13:02:17.662711Z",
          "iopub.status.idle": "2023-01-23T13:02:17.684686Z",
          "shell.execute_reply": "2023-01-23T13:02:17.683725Z"
        },
        "id": "69060e0d",
        "papermill": {
          "duration": 0.038167,
          "end_time": "2023-01-23T13:02:17.687567",
          "exception": false,
          "start_time": "2023-01-23T13:02:17.649400",
          "status": "completed"
        },
        "tags": []
      },
      "outputs": [],
      "source": [
        "# making tags for prediction\n",
        "df[\"tags\"] =df.overview + \" \"+ df.genres + \" \"  +df.credits + \" \" +df.keywords + \" \" + df.original_language"
      ]
    },
    {
      "cell_type": "code",
      "execution_count": 21,
      "id": "9dbcd9c8",
      "metadata": {
        "execution": {
          "iopub.execute_input": "2023-01-23T13:02:17.713001Z",
          "iopub.status.busy": "2023-01-23T13:02:17.712434Z",
          "iopub.status.idle": "2023-01-23T13:02:17.721591Z",
          "shell.execute_reply": "2023-01-23T13:02:17.720609Z"
        },
        "id": "9dbcd9c8",
        "papermill": {
          "duration": 0.024163,
          "end_time": "2023-01-23T13:02:17.723654",
          "exception": false,
          "start_time": "2023-01-23T13:02:17.699491",
          "status": "completed"
        },
        "tags": []
      },
      "outputs": [],
      "source": [
        "# making new framework with important features\n",
        "new_df = df[[\"id\", \"title\", \"tags\", 'poster_path']]"
      ]
    },
    {
      "cell_type": "code",
      "execution_count": 22,
      "id": "a5cef94f",
      "metadata": {
        "colab": {
          "base_uri": "https://localhost:8080/"
        },
        "execution": {
          "iopub.execute_input": "2023-01-23T13:02:17.748808Z",
          "iopub.status.busy": "2023-01-23T13:02:17.748301Z",
          "iopub.status.idle": "2023-01-23T13:02:17.769483Z",
          "shell.execute_reply": "2023-01-23T13:02:17.767110Z"
        },
        "id": "a5cef94f",
        "outputId": "0f983d6d-3482-4c12-daa8-b795245c328f",
        "papermill": {
          "duration": 0.037234,
          "end_time": "2023-01-23T13:02:17.772562",
          "exception": false,
          "start_time": "2023-01-23T13:02:17.735328",
          "status": "completed"
        },
        "tags": []
      },
      "outputs": [
        {
          "name": "stderr",
          "output_type": "stream",
          "text": [
            "<ipython-input-22-fff7c9e57d94>:2: SettingWithCopyWarning: \n",
            "A value is trying to be set on a copy of a slice from a DataFrame.\n",
            "Try using .loc[row_indexer,col_indexer] = value instead\n",
            "\n",
            "See the caveats in the documentation: https://pandas.pydata.org/pandas-docs/stable/user_guide/indexing.html#returning-a-view-versus-a-copy\n",
            "  new_df.tags = new_df.tags.apply(lambda x:x.lower())\n"
          ]
        }
      ],
      "source": [
        "# making all the content of tags in lower case letter for better processing\n",
        "new_df.tags = new_df.tags.apply(lambda x:x.lower())"
      ]
    },
    {
      "cell_type": "code",
      "execution_count": 23,
      "id": "ed19a9d4",
      "metadata": {
        "colab": {
          "base_uri": "https://localhost:8080/",
          "height": 70
        },
        "execution": {
          "iopub.execute_input": "2023-01-23T13:02:17.800003Z",
          "iopub.status.busy": "2023-01-23T13:02:17.798749Z",
          "iopub.status.idle": "2023-01-23T13:02:17.807662Z",
          "shell.execute_reply": "2023-01-23T13:02:17.806455Z"
        },
        "id": "ed19a9d4",
        "outputId": "17dcc60c-9d05-48d7-9851-08872144a707",
        "papermill": {
          "duration": 0.02424,
          "end_time": "2023-01-23T13:02:17.809467",
          "exception": false,
          "start_time": "2023-01-23T13:02:17.785227",
          "status": "completed"
        },
        "tags": []
      },
      "outputs": [
        {
          "data": {
            "application/vnd.google.colaboratory.intrinsic+json": {
              "type": "string"
            },
            "text/plain": [
              "'puss in boots discovers that his passion for adventure has taken its toll: he has burned through eight of his nine lives leaving him with only one life left. puss sets out on an epic journey to find the mythical last wish and restore his nine lives. animation action adventure comedy family fantasy antoniobanderas salmahayek harveyguillén wagnermoura florencepugh fairy tale talking dog spin off aftercreditsstinger talking cat fear of death en'"
            ]
          },
          "execution_count": 23,
          "metadata": {},
          "output_type": "execute_result"
        }
      ],
      "source": [
        "new_df.tags[0]"
      ]
    },
    {
      "cell_type": "code",
      "execution_count": 24,
      "id": "d3c6e87e",
      "metadata": {
        "colab": {
          "base_uri": "https://localhost:8080/",
          "height": 80
        },
        "execution": {
          "iopub.execute_input": "2023-01-23T13:02:17.836053Z",
          "iopub.status.busy": "2023-01-23T13:02:17.835520Z",
          "iopub.status.idle": "2023-01-23T13:02:17.848684Z",
          "shell.execute_reply": "2023-01-23T13:02:17.847359Z"
        },
        "id": "d3c6e87e",
        "outputId": "e89dc5fb-ad25-4240-8144-8f891d95480f",
        "papermill": {
          "duration": 0.029062,
          "end_time": "2023-01-23T13:02:17.850947",
          "exception": false,
          "start_time": "2023-01-23T13:02:17.821885",
          "status": "completed"
        },
        "tags": []
      },
      "outputs": [
        {
          "data": {
            "text/html": [
              "\n",
              "\n",
              "  <div id=\"df-8f2ba57a-e9d4-4b19-9506-2d9d29aa6f1b\">\n",
              "    <div class=\"colab-df-container\">\n",
              "      <div>\n",
              "<style scoped>\n",
              "    .dataframe tbody tr th:only-of-type {\n",
              "        vertical-align: middle;\n",
              "    }\n",
              "\n",
              "    .dataframe tbody tr th {\n",
              "        vertical-align: top;\n",
              "    }\n",
              "\n",
              "    .dataframe thead th {\n",
              "        text-align: right;\n",
              "    }\n",
              "</style>\n",
              "<table border=\"1\" class=\"dataframe\">\n",
              "  <thead>\n",
              "    <tr style=\"text-align: right;\">\n",
              "      <th></th>\n",
              "      <th>id</th>\n",
              "      <th>title</th>\n",
              "      <th>tags</th>\n",
              "      <th>poster_path</th>\n",
              "    </tr>\n",
              "  </thead>\n",
              "  <tbody>\n",
              "    <tr>\n",
              "      <th>0</th>\n",
              "      <td>315162</td>\n",
              "      <td>Puss in Boots: The Last Wish</td>\n",
              "      <td>puss in boots discovers that his passion for a...</td>\n",
              "      <td>/kuf6dutpsT0vSVehic3EZIqkOBt.jpg</td>\n",
              "    </tr>\n",
              "  </tbody>\n",
              "</table>\n",
              "</div>\n",
              "      <button class=\"colab-df-convert\" onclick=\"convertToInteractive('df-8f2ba57a-e9d4-4b19-9506-2d9d29aa6f1b')\"\n",
              "              title=\"Convert this dataframe to an interactive table.\"\n",
              "              style=\"display:none;\">\n",
              "\n",
              "  <svg xmlns=\"http://www.w3.org/2000/svg\" height=\"24px\"viewBox=\"0 0 24 24\"\n",
              "       width=\"24px\">\n",
              "    <path d=\"M0 0h24v24H0V0z\" fill=\"none\"/>\n",
              "    <path d=\"M18.56 5.44l.94 2.06.94-2.06 2.06-.94-2.06-.94-.94-2.06-.94 2.06-2.06.94zm-11 1L8.5 8.5l.94-2.06 2.06-.94-2.06-.94L8.5 2.5l-.94 2.06-2.06.94zm10 10l.94 2.06.94-2.06 2.06-.94-2.06-.94-.94-2.06-.94 2.06-2.06.94z\"/><path d=\"M17.41 7.96l-1.37-1.37c-.4-.4-.92-.59-1.43-.59-.52 0-1.04.2-1.43.59L10.3 9.45l-7.72 7.72c-.78.78-.78 2.05 0 2.83L4 21.41c.39.39.9.59 1.41.59.51 0 1.02-.2 1.41-.59l7.78-7.78 2.81-2.81c.8-.78.8-2.07 0-2.86zM5.41 20L4 18.59l7.72-7.72 1.47 1.35L5.41 20z\"/>\n",
              "  </svg>\n",
              "      </button>\n",
              "\n",
              "\n",
              "\n",
              "    <div id=\"df-272d32bd-bb1f-4e16-8d97-7c1505bfaccf\">\n",
              "      <button class=\"colab-df-quickchart\" onclick=\"quickchart('df-272d32bd-bb1f-4e16-8d97-7c1505bfaccf')\"\n",
              "              title=\"Suggest charts.\"\n",
              "              style=\"display:none;\">\n",
              "\n",
              "<svg xmlns=\"http://www.w3.org/2000/svg\" height=\"24px\"viewBox=\"0 0 24 24\"\n",
              "     width=\"24px\">\n",
              "    <g>\n",
              "        <path d=\"M19 3H5c-1.1 0-2 .9-2 2v14c0 1.1.9 2 2 2h14c1.1 0 2-.9 2-2V5c0-1.1-.9-2-2-2zM9 17H7v-7h2v7zm4 0h-2V7h2v10zm4 0h-2v-4h2v4z\"/>\n",
              "    </g>\n",
              "</svg>\n",
              "      </button>\n",
              "    </div>\n",
              "\n",
              "<style>\n",
              "  .colab-df-quickchart {\n",
              "    background-color: #E8F0FE;\n",
              "    border: none;\n",
              "    border-radius: 50%;\n",
              "    cursor: pointer;\n",
              "    display: none;\n",
              "    fill: #1967D2;\n",
              "    height: 32px;\n",
              "    padding: 0 0 0 0;\n",
              "    width: 32px;\n",
              "  }\n",
              "\n",
              "  .colab-df-quickchart:hover {\n",
              "    background-color: #E2EBFA;\n",
              "    box-shadow: 0px 1px 2px rgba(60, 64, 67, 0.3), 0px 1px 3px 1px rgba(60, 64, 67, 0.15);\n",
              "    fill: #174EA6;\n",
              "  }\n",
              "\n",
              "  [theme=dark] .colab-df-quickchart {\n",
              "    background-color: #3B4455;\n",
              "    fill: #D2E3FC;\n",
              "  }\n",
              "\n",
              "  [theme=dark] .colab-df-quickchart:hover {\n",
              "    background-color: #434B5C;\n",
              "    box-shadow: 0px 1px 3px 1px rgba(0, 0, 0, 0.15);\n",
              "    filter: drop-shadow(0px 1px 2px rgba(0, 0, 0, 0.3));\n",
              "    fill: #FFFFFF;\n",
              "  }\n",
              "</style>\n",
              "\n",
              "    <script>\n",
              "      async function quickchart(key) {\n",
              "        const containerElement = document.querySelector('#' + key);\n",
              "        const charts = await google.colab.kernel.invokeFunction(\n",
              "            'suggestCharts', [key], {});\n",
              "      }\n",
              "    </script>\n",
              "\n",
              "      <script>\n",
              "\n",
              "function displayQuickchartButton(domScope) {\n",
              "  let quickchartButtonEl =\n",
              "    domScope.querySelector('#df-272d32bd-bb1f-4e16-8d97-7c1505bfaccf button.colab-df-quickchart');\n",
              "  quickchartButtonEl.style.display =\n",
              "    google.colab.kernel.accessAllowed ? 'block' : 'none';\n",
              "}\n",
              "\n",
              "        displayQuickchartButton(document);\n",
              "      </script>\n",
              "      <style>\n",
              "    .colab-df-container {\n",
              "      display:flex;\n",
              "      flex-wrap:wrap;\n",
              "      gap: 12px;\n",
              "    }\n",
              "\n",
              "    .colab-df-convert {\n",
              "      background-color: #E8F0FE;\n",
              "      border: none;\n",
              "      border-radius: 50%;\n",
              "      cursor: pointer;\n",
              "      display: none;\n",
              "      fill: #1967D2;\n",
              "      height: 32px;\n",
              "      padding: 0 0 0 0;\n",
              "      width: 32px;\n",
              "    }\n",
              "\n",
              "    .colab-df-convert:hover {\n",
              "      background-color: #E2EBFA;\n",
              "      box-shadow: 0px 1px 2px rgba(60, 64, 67, 0.3), 0px 1px 3px 1px rgba(60, 64, 67, 0.15);\n",
              "      fill: #174EA6;\n",
              "    }\n",
              "\n",
              "    [theme=dark] .colab-df-convert {\n",
              "      background-color: #3B4455;\n",
              "      fill: #D2E3FC;\n",
              "    }\n",
              "\n",
              "    [theme=dark] .colab-df-convert:hover {\n",
              "      background-color: #434B5C;\n",
              "      box-shadow: 0px 1px 3px 1px rgba(0, 0, 0, 0.15);\n",
              "      filter: drop-shadow(0px 1px 2px rgba(0, 0, 0, 0.3));\n",
              "      fill: #FFFFFF;\n",
              "    }\n",
              "  </style>\n",
              "\n",
              "      <script>\n",
              "        const buttonEl =\n",
              "          document.querySelector('#df-8f2ba57a-e9d4-4b19-9506-2d9d29aa6f1b button.colab-df-convert');\n",
              "        buttonEl.style.display =\n",
              "          google.colab.kernel.accessAllowed ? 'block' : 'none';\n",
              "\n",
              "        async function convertToInteractive(key) {\n",
              "          const element = document.querySelector('#df-8f2ba57a-e9d4-4b19-9506-2d9d29aa6f1b');\n",
              "          const dataTable =\n",
              "            await google.colab.kernel.invokeFunction('convertToInteractive',\n",
              "                                                     [key], {});\n",
              "          if (!dataTable) return;\n",
              "\n",
              "          const docLinkHtml = 'Like what you see? Visit the ' +\n",
              "            '<a target=\"_blank\" href=https://colab.research.google.com/notebooks/data_table.ipynb>data table notebook</a>'\n",
              "            + ' to learn more about interactive tables.';\n",
              "          element.innerHTML = '';\n",
              "          dataTable['output_type'] = 'display_data';\n",
              "          await google.colab.output.renderOutput(dataTable, element);\n",
              "          const docLink = document.createElement('div');\n",
              "          docLink.innerHTML = docLinkHtml;\n",
              "          element.appendChild(docLink);\n",
              "        }\n",
              "      </script>\n",
              "    </div>\n",
              "  </div>\n"
            ],
            "text/plain": [
              "       id                         title  \\\n",
              "0  315162  Puss in Boots: The Last Wish   \n",
              "\n",
              "                                                tags  \\\n",
              "0  puss in boots discovers that his passion for a...   \n",
              "\n",
              "                        poster_path  \n",
              "0  /kuf6dutpsT0vSVehic3EZIqkOBt.jpg  "
            ]
          },
          "execution_count": 24,
          "metadata": {},
          "output_type": "execute_result"
        }
      ],
      "source": [
        "new_df.head(1)"
      ]
    },
    {
      "cell_type": "markdown",
      "id": "4b4830af",
      "metadata": {
        "id": "4b4830af",
        "papermill": {
          "duration": 0.011931,
          "end_time": "2023-01-23T13:02:17.875724",
          "exception": false,
          "start_time": "2023-01-23T13:02:17.863793",
          "status": "completed"
        },
        "tags": []
      },
      "source": [
        "# <p style=\"background-color:#C71A27;font-family:verdana;color:white;text-align:center;letter-spacing:0.5px;font-size:100%;padding: 10px\"> Vectorizer </p>"
      ]
    },
    {
      "cell_type": "code",
      "execution_count": 25,
      "id": "75ec4a8b",
      "metadata": {
        "execution": {
          "iopub.execute_input": "2023-01-23T13:02:17.926895Z",
          "iopub.status.busy": "2023-01-23T13:02:17.926394Z",
          "iopub.status.idle": "2023-01-23T13:02:18.518110Z",
          "shell.execute_reply": "2023-01-23T13:02:18.516860Z"
        },
        "id": "75ec4a8b",
        "papermill": {
          "duration": 0.609471,
          "end_time": "2023-01-23T13:02:18.520853",
          "exception": false,
          "start_time": "2023-01-23T13:02:17.911382",
          "status": "completed"
        },
        "tags": []
      },
      "outputs": [],
      "source": [
        "#import nltk library and porter module\n",
        "import nltk\n",
        "from nltk.stem.porter import PorterStemmer\n",
        "ps = PorterStemmer()"
      ]
    },
    {
      "cell_type": "code",
      "execution_count": 26,
      "id": "4ad223ba",
      "metadata": {
        "execution": {
          "iopub.execute_input": "2023-01-23T13:02:18.546722Z",
          "iopub.status.busy": "2023-01-23T13:02:18.546274Z",
          "iopub.status.idle": "2023-01-23T13:02:18.554355Z",
          "shell.execute_reply": "2023-01-23T13:02:18.553139Z"
        },
        "id": "4ad223ba",
        "papermill": {
          "duration": 0.023315,
          "end_time": "2023-01-23T13:02:18.556387",
          "exception": false,
          "start_time": "2023-01-23T13:02:18.533072",
          "status": "completed"
        },
        "tags": []
      },
      "outputs": [],
      "source": [
        "# stem function to take text and give output\n",
        "def stem(text):\n",
        "    y = []\n",
        "    for i in text.split():\n",
        "        y.append(ps.stem(i))\n",
        "\n",
        "    return \" \".join(y)"
      ]
    },
    {
      "cell_type": "code",
      "execution_count": 27,
      "id": "8e2f4d3a",
      "metadata": {
        "colab": {
          "base_uri": "https://localhost:8080/"
        },
        "execution": {
          "iopub.execute_input": "2023-01-23T13:02:18.582276Z",
          "iopub.status.busy": "2023-01-23T13:02:18.581840Z",
          "iopub.status.idle": "2023-01-23T13:02:29.722147Z",
          "shell.execute_reply": "2023-01-23T13:02:29.720784Z"
        },
        "id": "8e2f4d3a",
        "outputId": "59414df0-c8ae-4032-a17a-aa3fd2ee26bb",
        "papermill": {
          "duration": 11.156139,
          "end_time": "2023-01-23T13:02:29.724672",
          "exception": false,
          "start_time": "2023-01-23T13:02:18.568533",
          "status": "completed"
        },
        "tags": []
      },
      "outputs": [
        {
          "name": "stderr",
          "output_type": "stream",
          "text": [
            "<ipython-input-27-11cdb0bd7528>:2: SettingWithCopyWarning: \n",
            "A value is trying to be set on a copy of a slice from a DataFrame.\n",
            "Try using .loc[row_indexer,col_indexer] = value instead\n",
            "\n",
            "See the caveats in the documentation: https://pandas.pydata.org/pandas-docs/stable/user_guide/indexing.html#returning-a-view-versus-a-copy\n",
            "  new_df[\"tags\"] = new_df[\"tags\"].apply(stem)\n"
          ]
        }
      ],
      "source": [
        "# applying stem function in tags\n",
        "new_df[\"tags\"] = new_df[\"tags\"].apply(stem)"
      ]
    },
    {
      "cell_type": "code",
      "execution_count": 28,
      "id": "ab6d05b1",
      "metadata": {
        "execution": {
          "iopub.execute_input": "2023-01-23T13:02:29.773322Z",
          "iopub.status.busy": "2023-01-23T13:02:29.772834Z",
          "iopub.status.idle": "2023-01-23T13:02:29.778295Z",
          "shell.execute_reply": "2023-01-23T13:02:29.777249Z"
        },
        "id": "ab6d05b1",
        "papermill": {
          "duration": 0.020632,
          "end_time": "2023-01-23T13:02:29.780160",
          "exception": false,
          "start_time": "2023-01-23T13:02:29.759528",
          "status": "completed"
        },
        "tags": []
      },
      "outputs": [],
      "source": [
        "# importing countvectorizer\n",
        "from sklearn.feature_extraction.text import CountVectorizer\n",
        "# setting for 5000 most repeated words, and exclude stop words\n",
        "cv = CountVectorizer(stop_words=\"english\",max_features=5000)"
      ]
    },
    {
      "cell_type": "code",
      "execution_count": 29,
      "id": "1b4334ff",
      "metadata": {
        "execution": {
          "iopub.execute_input": "2023-01-23T13:02:29.805954Z",
          "iopub.status.busy": "2023-01-23T13:02:29.805285Z",
          "iopub.status.idle": "2023-01-23T13:02:30.328234Z",
          "shell.execute_reply": "2023-01-23T13:02:30.327071Z"
        },
        "id": "1b4334ff",
        "papermill": {
          "duration": 0.538765,
          "end_time": "2023-01-23T13:02:30.330852",
          "exception": false,
          "start_time": "2023-01-23T13:02:29.792087",
          "status": "completed"
        },
        "tags": []
      },
      "outputs": [],
      "source": [
        "# fiting tags in count vector\n",
        "vectors = cv.fit_transform(new_df[\"tags\"]).toarray() #change it into array to use"
      ]
    },
    {
      "cell_type": "code",
      "execution_count": 33,
      "id": "ff7f2047",
      "metadata": {
        "colab": {
          "base_uri": "https://localhost:8080/"
        },
        "execution": {
          "iopub.execute_input": "2023-01-23T13:02:30.356967Z",
          "iopub.status.busy": "2023-01-23T13:02:30.355746Z",
          "iopub.status.idle": "2023-01-23T13:02:30.368293Z",
          "shell.execute_reply": "2023-01-23T13:02:30.366642Z"
        },
        "id": "ff7f2047",
        "outputId": "1a8f446f-a979-4166-847a-ae84f5a4b834",
        "papermill": {
          "duration": 0.02746,
          "end_time": "2023-01-23T13:02:30.370398",
          "exception": false,
          "start_time": "2023-01-23T13:02:30.342938",
          "status": "completed"
        },
        "tags": []
      },
      "outputs": [
        {
          "data": {
            "text/plain": [
              "array([[0, 0, 0, 0, 0],\n",
              "       [0, 0, 0, 0, 0],\n",
              "       [0, 0, 0, 0, 0],\n",
              "       ...,\n",
              "       [0, 0, 0, 0, 0],\n",
              "       [0, 0, 0, 0, 0],\n",
              "       [0, 0, 0, 0, 0]])"
            ]
          },
          "execution_count": 33,
          "metadata": {},
          "output_type": "execute_result"
        }
      ],
      "source": [
        "vectors[:, 80:85]"
      ]
    },
    {
      "cell_type": "code",
      "execution_count": 34,
      "id": "f6797651",
      "metadata": {
        "execution": {
          "iopub.execute_input": "2023-01-23T13:02:30.420304Z",
          "iopub.status.busy": "2023-01-23T13:02:30.419858Z",
          "iopub.status.idle": "2023-01-23T13:02:33.815534Z",
          "shell.execute_reply": "2023-01-23T13:02:33.814613Z"
        },
        "id": "f6797651",
        "papermill": {
          "duration": 3.412129,
          "end_time": "2023-01-23T13:02:33.818181",
          "exception": false,
          "start_time": "2023-01-23T13:02:30.406052",
          "status": "completed"
        },
        "tags": []
      },
      "outputs": [],
      "source": [
        "# Similarity vector with cosine\n",
        "from sklearn.metrics.pairwise import cosine_similarity\n",
        "# calculating similarity of each movie with all movies\n",
        "similarity = cosine_similarity(vectors)"
      ]
    },
    {
      "cell_type": "code",
      "execution_count": 35,
      "id": "f26aac09",
      "metadata": {
        "colab": {
          "base_uri": "https://localhost:8080/"
        },
        "execution": {
          "iopub.execute_input": "2023-01-23T13:02:33.849504Z",
          "iopub.status.busy": "2023-01-23T13:02:33.848182Z",
          "iopub.status.idle": "2023-01-23T13:02:33.855810Z",
          "shell.execute_reply": "2023-01-23T13:02:33.854708Z"
        },
        "id": "f26aac09",
        "outputId": "c4b5df59-b6ae-488f-988b-85b32ef51aaf",
        "papermill": {
          "duration": 0.025287,
          "end_time": "2023-01-23T13:02:33.859261",
          "exception": false,
          "start_time": "2023-01-23T13:02:33.833974",
          "status": "completed"
        },
        "tags": []
      },
      "outputs": [
        {
          "data": {
            "text/plain": [
              "(7525, 7525)"
            ]
          },
          "execution_count": 35,
          "metadata": {},
          "output_type": "execute_result"
        }
      ],
      "source": [
        "# similarity of each movie with all the movies\n",
        "similarity.shape"
      ]
    },
    {
      "cell_type": "markdown",
      "id": "495f7e9c",
      "metadata": {
        "id": "495f7e9c",
        "papermill": {
          "duration": 0.011938,
          "end_time": "2023-01-23T13:02:33.884231",
          "exception": false,
          "start_time": "2023-01-23T13:02:33.872293",
          "status": "completed"
        },
        "tags": []
      },
      "source": [
        "***\n",
        "# <p style=\"background-color:#C71A27;font-family:verdana;color:white;text-align:center;letter-spacing:0.5px;font-size:100%;padding: 10px\"> Testing Model </p>\n",
        "\n",
        "To test our model we will make a function which will take name of movie and recommend 5 movies, similar to that.\n",
        "***"
      ]
    },
    {
      "cell_type": "code",
      "execution_count": 36,
      "id": "db4e3762",
      "metadata": {
        "execution": {
          "iopub.execute_input": "2023-01-23T13:02:33.912730Z",
          "iopub.status.busy": "2023-01-23T13:02:33.911557Z",
          "iopub.status.idle": "2023-01-23T13:02:33.918000Z",
          "shell.execute_reply": "2023-01-23T13:02:33.917100Z"
        },
        "id": "db4e3762",
        "papermill": {
          "duration": 0.023415,
          "end_time": "2023-01-23T13:02:33.920070",
          "exception": false,
          "start_time": "2023-01-23T13:02:33.896655",
          "status": "completed"
        },
        "tags": []
      },
      "outputs": [],
      "source": [
        "# making function to find movie and give similar movies as return\n",
        "def recommend(movies):\n",
        "    movie_index = new_df[new_df.title == movies].index[0]\n",
        "    distances = similarity[movie_index]\n",
        "    movies_list = sorted(list(enumerate(distances)), reverse=True, key= lambda x:x[1])[1:6]\n",
        "\n",
        "    for i in movies_list:\n",
        "        print(new_df.iloc[i[0]].title)\n",
        "\n"
      ]
    },
    {
      "cell_type": "code",
      "execution_count": 37,
      "id": "f347ce51",
      "metadata": {
        "colab": {
          "base_uri": "https://localhost:8080/"
        },
        "execution": {
          "iopub.execute_input": "2023-01-23T13:02:33.948001Z",
          "iopub.status.busy": "2023-01-23T13:02:33.946795Z",
          "iopub.status.idle": "2023-01-23T13:02:33.960297Z",
          "shell.execute_reply": "2023-01-23T13:02:33.958950Z"
        },
        "id": "f347ce51",
        "outputId": "d78e28df-d9cd-4d96-edd9-09e2fab9972f",
        "papermill": {
          "duration": 0.029161,
          "end_time": "2023-01-23T13:02:33.962192",
          "exception": false,
          "start_time": "2023-01-23T13:02:33.933031",
          "status": "completed"
        },
        "tags": []
      },
      "outputs": [
        {
          "name": "stdout",
          "output_type": "stream",
          "text": [
            "The Dark Knight\n",
            "Batman: Mask of the Phantasm\n",
            "Batman & Robin\n",
            "Batman Returns\n",
            "Dick Tracy\n"
          ]
        }
      ],
      "source": [
        "# checking similar movies test 1\n",
        "recommend(\"Batman\")"
      ]
    },
    {
      "cell_type": "code",
      "execution_count": 38,
      "id": "465b920b",
      "metadata": {
        "colab": {
          "base_uri": "https://localhost:8080/"
        },
        "execution": {
          "iopub.execute_input": "2023-01-23T13:02:33.988505Z",
          "iopub.status.busy": "2023-01-23T13:02:33.988072Z",
          "iopub.status.idle": "2023-01-23T13:02:34.000271Z",
          "shell.execute_reply": "2023-01-23T13:02:33.999311Z"
        },
        "id": "465b920b",
        "outputId": "25b516f6-cac9-4666-b319-c4542a43c9a6",
        "papermill": {
          "duration": 0.028486,
          "end_time": "2023-01-23T13:02:34.003049",
          "exception": false,
          "start_time": "2023-01-23T13:02:33.974563",
          "status": "completed"
        },
        "tags": []
      },
      "outputs": [
        {
          "name": "stdout",
          "output_type": "stream",
          "text": [
            "Zack Snyder's Justice League\n",
            "X-Men: Apocalypse\n",
            "Justice League\n",
            "The Wolverine\n",
            "Justice League vs. Teen Titans\n"
          ]
        }
      ],
      "source": [
        "# test 2\n",
        "recommend(\"Black Adam\")"
      ]
    },
    {
      "cell_type": "code",
      "execution_count": 45,
      "id": "a6c573a0",
      "metadata": {
        "execution": {
          "iopub.execute_input": "2023-01-23T13:02:34.077772Z",
          "iopub.status.busy": "2023-01-23T13:02:34.077011Z",
          "iopub.status.idle": "2023-01-23T13:02:34.081311Z",
          "shell.execute_reply": "2023-01-23T13:02:34.080607Z"
        },
        "id": "a6c573a0",
        "papermill": {
          "duration": 0.020002,
          "end_time": "2023-01-23T13:02:34.083067",
          "exception": false,
          "start_time": "2023-01-23T13:02:34.063065",
          "status": "completed"
        },
        "tags": []
      },
      "outputs": [],
      "source": [
        "# import Pickle\n",
        "import pickle\n",
        "from google.colab import drive, files"
      ]
    },
    {
      "cell_type": "code",
      "execution_count": 46,
      "id": "82358083",
      "metadata": {
        "colab": {
          "base_uri": "https://localhost:8080/",
          "height": 17
        },
        "execution": {
          "iopub.execute_input": "2023-01-23T13:02:34.109480Z",
          "iopub.status.busy": "2023-01-23T13:02:34.108789Z",
          "iopub.status.idle": "2023-01-23T13:02:34.123031Z",
          "shell.execute_reply": "2023-01-23T13:02:34.122169Z"
        },
        "id": "82358083",
        "outputId": "27f29d1a-8a09-4513-8b05-b6b971c64914",
        "papermill": {
          "duration": 0.029936,
          "end_time": "2023-01-23T13:02:34.125451",
          "exception": false,
          "start_time": "2023-01-23T13:02:34.095515",
          "status": "completed"
        },
        "tags": []
      },
      "outputs": [
        {
          "data": {
            "application/javascript": "\n    async function download(id, filename, size) {\n      if (!google.colab.kernel.accessAllowed) {\n        return;\n      }\n      const div = document.createElement('div');\n      const label = document.createElement('label');\n      label.textContent = `Downloading \"${filename}\": `;\n      div.appendChild(label);\n      const progress = document.createElement('progress');\n      progress.max = size;\n      div.appendChild(progress);\n      document.body.appendChild(div);\n\n      const buffers = [];\n      let downloaded = 0;\n\n      const channel = await google.colab.kernel.comms.open(id);\n      // Send a message to notify the kernel that we're ready.\n      channel.send({})\n\n      for await (const message of channel.messages) {\n        // Send a message to notify the kernel that we're ready.\n        channel.send({})\n        if (message.buffers) {\n          for (const buffer of message.buffers) {\n            buffers.push(buffer);\n            downloaded += buffer.byteLength;\n            progress.value = downloaded;\n          }\n        }\n      }\n      const blob = new Blob(buffers, {type: 'application/binary'});\n      const a = document.createElement('a');\n      a.href = window.URL.createObjectURL(blob);\n      a.download = filename;\n      div.appendChild(a);\n      a.click();\n      div.remove();\n    }\n  ",
            "text/plain": [
              "<IPython.core.display.Javascript object>"
            ]
          },
          "metadata": {},
          "output_type": "display_data"
        },
        {
          "data": {
            "application/javascript": "download(\"download_26387d17-16e2-41e5-b66c-f3eff79f5d8d\", \"moviesNEW.pkl\", 3783354)",
            "text/plain": [
              "<IPython.core.display.Javascript object>"
            ]
          },
          "metadata": {},
          "output_type": "display_data"
        }
      ],
      "source": [
        "# making portable movie pickle file to transport\n",
        "pickle.dump(new_df, open(\"moviesNEW.pkl\", \"wb\"))\n",
        "files.download(\"moviesNEW.pkl\")"
      ]
    },
    {
      "cell_type": "code",
      "execution_count": 47,
      "id": "99ec21f7",
      "metadata": {
        "colab": {
          "base_uri": "https://localhost:8080/",
          "height": 17
        },
        "execution": {
          "iopub.execute_input": "2023-01-23T13:02:34.151593Z",
          "iopub.status.busy": "2023-01-23T13:02:34.150951Z",
          "iopub.status.idle": "2023-01-23T13:02:34.571510Z",
          "shell.execute_reply": "2023-01-23T13:02:34.569776Z"
        },
        "id": "99ec21f7",
        "outputId": "a73df032-711f-4410-9cd4-fe92712f9432",
        "papermill": {
          "duration": 0.436975,
          "end_time": "2023-01-23T13:02:34.574799",
          "exception": false,
          "start_time": "2023-01-23T13:02:34.137824",
          "status": "completed"
        },
        "tags": []
      },
      "outputs": [
        {
          "data": {
            "application/javascript": "\n    async function download(id, filename, size) {\n      if (!google.colab.kernel.accessAllowed) {\n        return;\n      }\n      const div = document.createElement('div');\n      const label = document.createElement('label');\n      label.textContent = `Downloading \"${filename}\": `;\n      div.appendChild(label);\n      const progress = document.createElement('progress');\n      progress.max = size;\n      div.appendChild(progress);\n      document.body.appendChild(div);\n\n      const buffers = [];\n      let downloaded = 0;\n\n      const channel = await google.colab.kernel.comms.open(id);\n      // Send a message to notify the kernel that we're ready.\n      channel.send({})\n\n      for await (const message of channel.messages) {\n        // Send a message to notify the kernel that we're ready.\n        channel.send({})\n        if (message.buffers) {\n          for (const buffer of message.buffers) {\n            buffers.push(buffer);\n            downloaded += buffer.byteLength;\n            progress.value = downloaded;\n          }\n        }\n      }\n      const blob = new Blob(buffers, {type: 'application/binary'});\n      const a = document.createElement('a');\n      a.href = window.URL.createObjectURL(blob);\n      a.download = filename;\n      div.appendChild(a);\n      a.click();\n      div.remove();\n    }\n  ",
            "text/plain": [
              "<IPython.core.display.Javascript object>"
            ]
          },
          "metadata": {},
          "output_type": "display_data"
        },
        {
          "data": {
            "application/javascript": "download(\"download_cea24004-3938-4433-a273-3acaca326823\", \"similarity.pkl\", 453005163)",
            "text/plain": [
              "<IPython.core.display.Javascript object>"
            ]
          },
          "metadata": {},
          "output_type": "display_data"
        }
      ],
      "source": [
        "# making portable similarity file to transport\n",
        "pickle.dump(similarity, open(\"similarity.pkl\", \"wb\"))\n",
        "files.download(\"similarity.pkl\")"
      ]
    }
  ],
  "metadata": {
    "colab": {
      "provenance": []
    },
    "kernelspec": {
      "display_name": "Python 3",
      "language": "python",
      "name": "python3"
    },
    "language_info": {
      "codemirror_mode": {
        "name": "ipython",
        "version": 3
      },
      "file_extension": ".py",
      "mimetype": "text/x-python",
      "name": "python",
      "nbconvert_exporter": "python",
      "pygments_lexer": "ipython3",
      "version": "3.7.12"
    },
    "papermill": {
      "default_parameters": {},
      "duration": 43.375827,
      "end_time": "2023-01-23T13:02:35.730838",
      "environment_variables": {},
      "exception": null,
      "input_path": "__notebook__.ipynb",
      "output_path": "__notebook__.ipynb",
      "parameters": {},
      "start_time": "2023-01-23T13:01:52.355011",
      "version": "2.3.4"
    }
  },
  "nbformat": 4,
  "nbformat_minor": 5
}
